{
    "cells": [
        {
            "cell_type": "markdown",
            "metadata": {
                "id": "APVY_2WURfJP"
            },
            "source": [
                "# **Transformation des données**"
            ]
        },
        {
            "attachments": {},
            "cell_type": "markdown",
            "metadata": {
                "id": "QBy9xBdZVETt"
            },
            "source": [
                "![image](https://user-images.githubusercontent.com/123748165/226334716-edbd580f-0d0c-4237-a3ca-02c91cc0fb22.png)"
            ]
        },
        {
            "cell_type": "markdown",
            "metadata": {
                "id": "oPr4BFLSRr17"
            },
            "source": [
                "# **Remplacement des valeurs**"
            ]
        },
        {
            "cell_type": "markdown",
            "metadata": {
                "id": "t_5UEC6KR3lo"
            },
            "source": [
                "- Jusqu'à présent, vous n'avez travaillé qu'avec des données manquantes (NaN), mais il peut arriver que vous souhaitiez remplacer une valeur non nulle par une valeur différente.\n",
                "- Ou peut-être qu'une valeur nulle est enregistrée comme un nombre aléatoire et doit donc être traitée comme NaN plutôt que comme un nombre.\n",
                "- C'est là que la replace()fonction devient utile..."
            ]
        },
        {
            "cell_type": "code",
            "execution_count": null,
            "metadata": {
                "id": "OiK_Gty3SCZR"
            },
            "outputs": [],
            "source": [
                "import pandas as pd\n",
                "import numpy as np"
            ]
        },
        {
            "cell_type": "code",
            "execution_count": null,
            "metadata": {
                "colab": {
                    "base_uri": "https://localhost:8080/"
                },
                "id": "ZUoFSWewRRfe",
                "outputId": "a51f1d20-6057-4ef4-ae8b-a3b5d9f11e8b"
            },
            "outputs": [
                {
                    "data": {
                        "text/plain": [
                            "0     1\n",
                            "1     2\n",
                            "2   -99\n",
                            "3     4\n",
                            "4     5\n",
                            "5   -99\n",
                            "6     7\n",
                            "7     8\n",
                            "8   -99\n",
                            "dtype: int64"
                        ]
                    },
                    "execution_count": 4,
                    "metadata": {},
                    "output_type": "execute_result"
                }
            ],
            "source": [
                "data = pd.Series([1,2,-99,4,5,-99,7,8,-99])\n",
                "data"
            ]
        },
        {
            "cell_type": "code",
            "execution_count": null,
            "metadata": {
                "colab": {
                    "base_uri": "https://localhost:8080/"
                },
                "id": "y3tBsBtpSA4l",
                "outputId": "65bffb0f-7399-436c-f475-758e3a1a23df"
            },
            "outputs": [
                {
                    "data": {
                        "text/plain": [
                            "0    1.0\n",
                            "1    2.0\n",
                            "2    NaN\n",
                            "3    4.0\n",
                            "4    5.0\n",
                            "5    NaN\n",
                            "6    7.0\n",
                            "7    8.0\n",
                            "8    NaN\n",
                            "dtype: float64"
                        ]
                    },
                    "execution_count": 5,
                    "metadata": {},
                    "output_type": "execute_result"
                }
            ],
            "source": [
                "# Remplacer -99 par NaN\n",
                "#fill_here"
            ]
        },
        {
            "cell_type": "markdown",
            "metadata": {
                "id": "FLaAXN3SSdWK"
            },
            "source": [
                "- Vous ne verrez plus le -99, car il est remplacé par NaN et donc non représenté.\n",
                "- De même, vous pouvez transmettre plusieurs valeurs à remplacer.\n",
                "- Pour ce faire, nous allons créer une autre série, puis concaténer la série de données d'origine avec la nouvelle série, puis appliquer la fonction de remplacement de valeurs multiples."
            ]
        },
        {
            "cell_type": "markdown",
            "metadata": {
                "id": "Upu3Mu_ZSovt"
            },
            "source": [
                "# **Concaténation des Séries Pandas**\n",
                "Pour ce faire, nous pouvons utiliser la concat()fonction dans pandas. Pour continuer l'indexation après avoir appliqué la concaténation, vous pouvez ignore_index = Truelui passer l'argument."
            ]
        },
        {
            "cell_type": "code",
            "execution_count": null,
            "metadata": {
                "colab": {
                    "base_uri": "https://localhost:8080/"
                },
                "id": "sdulD3TXSuXn",
                "outputId": "38971662-511a-4508-c766-55314f7e9d8a"
            },
            "outputs": [
                {
                    "data": {
                        "text/plain": [
                            "0       1\n",
                            "1       2\n",
                            "2     -99\n",
                            "3       4\n",
                            "4       5\n",
                            "5     -99\n",
                            "6       7\n",
                            "7       8\n",
                            "8     -99\n",
                            "9    -100\n",
                            "10     11\n",
                            "11     12\n",
                            "12     13\n",
                            "dtype: int64"
                        ]
                    },
                    "execution_count": 6,
                    "metadata": {},
                    "output_type": "execute_result"
                }
            ],
            "source": [
                "# Create a new Series\n",
                "new_data = pd.Series([-100, 11, 12, 13])\n",
                "combined_series = pd.concat([data, new_data], ignore_index = True)\n",
                "combined_series"
            ]
        },
        {
            "cell_type": "code",
            "execution_count": null,
            "metadata": {
                "colab": {
                    "base_uri": "https://localhost:8080/"
                },
                "id": "emrdeUaNS88l",
                "outputId": "6755b932-8a64-4e34-bca2-b29ee88a9bf8"
            },
            "outputs": [
                {
                    "data": {
                        "text/plain": [
                            "0      1.0\n",
                            "1      2.0\n",
                            "2      NaN\n",
                            "3      4.0\n",
                            "4      5.0\n",
                            "5      NaN\n",
                            "6      7.0\n",
                            "7      8.0\n",
                            "8      NaN\n",
                            "9      NaN\n",
                            "10    11.0\n",
                            "11    12.0\n",
                            "12    13.0\n",
                            "dtype: float64"
                        ]
                    },
                    "execution_count": 7,
                    "metadata": {},
                    "output_type": "execute_result"
                }
            ],
            "source": [
                "# Remplacer -99 and -100 par NaN idans combined_series\n",
                "data_replaced = #fill_here\n",
                "data_replaced"
            ]
        },
        {
            "cell_type": "code",
            "execution_count": null,
            "metadata": {
                "colab": {
                    "base_uri": "https://localhost:8080/"
                },
                "id": "RXhofzmCTCye",
                "outputId": "71685e5d-246b-4dd5-fecf-4dfa9c42cf13"
            },
            "outputs": [
                {
                    "data": {
                        "text/plain": [
                            "0      1.0\n",
                            "1      2.0\n",
                            "2      NaN\n",
                            "3      4.0\n",
                            "4      5.0\n",
                            "5      NaN\n",
                            "6      7.0\n",
                            "7      8.0\n",
                            "8      NaN\n",
                            "9      0.0\n",
                            "10    11.0\n",
                            "11    12.0\n",
                            "12    13.0\n",
                            "dtype: float64"
                        ]
                    },
                    "execution_count": 8,
                    "metadata": {},
                    "output_type": "execute_result"
                }
            ],
            "source": [
                "# L'argument passé peut aussi être  un dictionnaire\n",
                "data_replaced = combined_series.replace({-99: np.nan, -100: 0})\n",
                "\n",
                "# Même résultat: new_data.replace([-99, -100], [np.nan, 0])\n",
                "data_replaced"
            ]
        },
        {
            "cell_type": "markdown",
            "metadata": {
                "id": "kl7CvN1kTHal"
            },
            "source": [
                "# **Ajout de connaissances - Fonction Map**\n",
                "- Dans certaines situations, vous voudrez peut-être ajouter plus d'informations à ce que vous avez déjà en vous basant sur une certaine logique.\n",
                "- C'est à ce moment que vous pouvez vous aider de cartes et d'une combinaison de fonctions pour obtenir ce que vous voulez.\n",
                "- La logique peut devenir plus compliquée, mais essayez de comprendre à l'aide de cet exemple.\n",
                "\n",
                "- Disons que vous avez une base de données de nombres mappée à son nombre correspondant en anglais."
            ]
        },
        {
            "cell_type": "code",
            "execution_count": null,
            "metadata": {
                "colab": {
                    "base_uri": "https://localhost:8080/",
                    "height": 238
                },
                "id": "RirJ5sqDTM-R",
                "outputId": "223f05e5-876a-412f-a253-b2694a5db68f"
            },
            "outputs": [
                {
                    "data": {
                        "text/html": [
                            "\n",
                            "  <div id=\"df-d921c6f0-dac2-4806-9e4a-1cb86adbecc6\">\n",
                            "    <div class=\"colab-df-container\">\n",
                            "      <div>\n",
                            "<style scoped>\n",
                            "    .dataframe tbody tr th:only-of-type {\n",
                            "        vertical-align: middle;\n",
                            "    }\n",
                            "\n",
                            "    .dataframe tbody tr th {\n",
                            "        vertical-align: top;\n",
                            "    }\n",
                            "\n",
                            "    .dataframe thead th {\n",
                            "        text-align: right;\n",
                            "    }\n",
                            "</style>\n",
                            "<table border=\"1\" class=\"dataframe\">\n",
                            "  <thead>\n",
                            "    <tr style=\"text-align: right;\">\n",
                            "      <th></th>\n",
                            "      <th>english</th>\n",
                            "      <th>digits</th>\n",
                            "    </tr>\n",
                            "  </thead>\n",
                            "  <tbody>\n",
                            "    <tr>\n",
                            "      <th>0</th>\n",
                            "      <td>zero</td>\n",
                            "      <td>0</td>\n",
                            "    </tr>\n",
                            "    <tr>\n",
                            "      <th>1</th>\n",
                            "      <td>one</td>\n",
                            "      <td>1</td>\n",
                            "    </tr>\n",
                            "    <tr>\n",
                            "      <th>2</th>\n",
                            "      <td>two</td>\n",
                            "      <td>2</td>\n",
                            "    </tr>\n",
                            "    <tr>\n",
                            "      <th>3</th>\n",
                            "      <td>three</td>\n",
                            "      <td>3</td>\n",
                            "    </tr>\n",
                            "    <tr>\n",
                            "      <th>4</th>\n",
                            "      <td>four</td>\n",
                            "      <td>4</td>\n",
                            "    </tr>\n",
                            "    <tr>\n",
                            "      <th>5</th>\n",
                            "      <td>five</td>\n",
                            "      <td>5</td>\n",
                            "    </tr>\n",
                            "  </tbody>\n",
                            "</table>\n",
                            "</div>\n",
                            "      <button class=\"colab-df-convert\" onclick=\"convertToInteractive('df-d921c6f0-dac2-4806-9e4a-1cb86adbecc6')\"\n",
                            "              title=\"Convert this dataframe to an interactive table.\"\n",
                            "              style=\"display:none;\">\n",
                            "        \n",
                            "  <svg xmlns=\"http://www.w3.org/2000/svg\" height=\"24px\"viewBox=\"0 0 24 24\"\n",
                            "       width=\"24px\">\n",
                            "    <path d=\"M0 0h24v24H0V0z\" fill=\"none\"/>\n",
                            "    <path d=\"M18.56 5.44l.94 2.06.94-2.06 2.06-.94-2.06-.94-.94-2.06-.94 2.06-2.06.94zm-11 1L8.5 8.5l.94-2.06 2.06-.94-2.06-.94L8.5 2.5l-.94 2.06-2.06.94zm10 10l.94 2.06.94-2.06 2.06-.94-2.06-.94-.94-2.06-.94 2.06-2.06.94z\"/><path d=\"M17.41 7.96l-1.37-1.37c-.4-.4-.92-.59-1.43-.59-.52 0-1.04.2-1.43.59L10.3 9.45l-7.72 7.72c-.78.78-.78 2.05 0 2.83L4 21.41c.39.39.9.59 1.41.59.51 0 1.02-.2 1.41-.59l7.78-7.78 2.81-2.81c.8-.78.8-2.07 0-2.86zM5.41 20L4 18.59l7.72-7.72 1.47 1.35L5.41 20z\"/>\n",
                            "  </svg>\n",
                            "      </button>\n",
                            "      \n",
                            "  <style>\n",
                            "    .colab-df-container {\n",
                            "      display:flex;\n",
                            "      flex-wrap:wrap;\n",
                            "      gap: 12px;\n",
                            "    }\n",
                            "\n",
                            "    .colab-df-convert {\n",
                            "      background-color: #E8F0FE;\n",
                            "      border: none;\n",
                            "      border-radius: 50%;\n",
                            "      cursor: pointer;\n",
                            "      display: none;\n",
                            "      fill: #1967D2;\n",
                            "      height: 32px;\n",
                            "      padding: 0 0 0 0;\n",
                            "      width: 32px;\n",
                            "    }\n",
                            "\n",
                            "    .colab-df-convert:hover {\n",
                            "      background-color: #E2EBFA;\n",
                            "      box-shadow: 0px 1px 2px rgba(60, 64, 67, 0.3), 0px 1px 3px 1px rgba(60, 64, 67, 0.15);\n",
                            "      fill: #174EA6;\n",
                            "    }\n",
                            "\n",
                            "    [theme=dark] .colab-df-convert {\n",
                            "      background-color: #3B4455;\n",
                            "      fill: #D2E3FC;\n",
                            "    }\n",
                            "\n",
                            "    [theme=dark] .colab-df-convert:hover {\n",
                            "      background-color: #434B5C;\n",
                            "      box-shadow: 0px 1px 3px 1px rgba(0, 0, 0, 0.15);\n",
                            "      filter: drop-shadow(0px 1px 2px rgba(0, 0, 0, 0.3));\n",
                            "      fill: #FFFFFF;\n",
                            "    }\n",
                            "  </style>\n",
                            "\n",
                            "      <script>\n",
                            "        const buttonEl =\n",
                            "          document.querySelector('#df-d921c6f0-dac2-4806-9e4a-1cb86adbecc6 button.colab-df-convert');\n",
                            "        buttonEl.style.display =\n",
                            "          google.colab.kernel.accessAllowed ? 'block' : 'none';\n",
                            "\n",
                            "        async function convertToInteractive(key) {\n",
                            "          const element = document.querySelector('#df-d921c6f0-dac2-4806-9e4a-1cb86adbecc6');\n",
                            "          const dataTable =\n",
                            "            await google.colab.kernel.invokeFunction('convertToInteractive',\n",
                            "                                                     [key], {});\n",
                            "          if (!dataTable) return;\n",
                            "\n",
                            "          const docLinkHtml = 'Like what you see? Visit the ' +\n",
                            "            '<a target=\"_blank\" href=https://colab.research.google.com/notebooks/data_table.ipynb>data table notebook</a>'\n",
                            "            + ' to learn more about interactive tables.';\n",
                            "          element.innerHTML = '';\n",
                            "          dataTable['output_type'] = 'display_data';\n",
                            "          await google.colab.output.renderOutput(dataTable, element);\n",
                            "          const docLink = document.createElement('div');\n",
                            "          docLink.innerHTML = docLinkHtml;\n",
                            "          element.appendChild(docLink);\n",
                            "        }\n",
                            "      </script>\n",
                            "    </div>\n",
                            "  </div>\n",
                            "  "
                        ],
                        "text/plain": [
                            "  english  digits\n",
                            "0    zero       0\n",
                            "1     one       1\n",
                            "2     two       2\n",
                            "3   three       3\n",
                            "4    four       4\n",
                            "5    five       5"
                        ]
                    },
                    "execution_count": 9,
                    "metadata": {},
                    "output_type": "execute_result"
                }
            ],
            "source": [
                "data_number = pd.DataFrame({'english': ['zero','one','two','three','four','five'],\n",
                "'digits': [0,1,2,3,4,5]})\n",
                "data_number"
            ]
        },
        {
            "cell_type": "markdown",
            "metadata": {
                "id": "jadp5QUZTUnv"
            },
            "source": [
                "- Supposons que vous vouliez maintenant ajouter une autre colonne indiquant les multiples de deux comme \"Oui\" et le reste comme \"Non\".\n",
                "- Vous pouvez écrire un mappage de chaque appel anglais distinct à son \"Oui\" ou \"Non\" correspondant.\n",
                "\n"
            ]
        },
        {
            "cell_type": "code",
            "execution_count": null,
            "metadata": {
                "id": "8XJIDe4hTbZj"
            },
            "outputs": [],
            "source": [
                "english_to_multiple = {\n",
                "    'two': 'yes',\n",
                "    'four': 'yes'\n",
                "}"
            ]
        },
        {
            "cell_type": "markdown",
            "metadata": {
                "id": "KP2g1m6qTlN-"
            },
            "source": [
                "- Ensuite, vous pouvez appeler la fonction map pour ajouter la colonne lorsque la colonne anglaise est un multiple de 2. Qu'est-ce qui est rempli dans les autres colonnes de nombres non multiples ? "
            ]
        },
        {
            "cell_type": "code",
            "execution_count": null,
            "metadata": {
                "colab": {
                    "base_uri": "https://localhost:8080/",
                    "height": 238
                },
                "id": "kYGuJjVcTrYi",
                "outputId": "6a38b2ca-d805-46a9-c726-9da6f98c8e70"
            },
            "outputs": [
                {
                    "data": {
                        "text/html": [
                            "\n",
                            "  <div id=\"df-8bcd4183-55da-4e2d-a09c-0b8692e09648\">\n",
                            "    <div class=\"colab-df-container\">\n",
                            "      <div>\n",
                            "<style scoped>\n",
                            "    .dataframe tbody tr th:only-of-type {\n",
                            "        vertical-align: middle;\n",
                            "    }\n",
                            "\n",
                            "    .dataframe tbody tr th {\n",
                            "        vertical-align: top;\n",
                            "    }\n",
                            "\n",
                            "    .dataframe thead th {\n",
                            "        text-align: right;\n",
                            "    }\n",
                            "</style>\n",
                            "<table border=\"1\" class=\"dataframe\">\n",
                            "  <thead>\n",
                            "    <tr style=\"text-align: right;\">\n",
                            "      <th></th>\n",
                            "      <th>english</th>\n",
                            "      <th>digits</th>\n",
                            "      <th>multiple</th>\n",
                            "    </tr>\n",
                            "  </thead>\n",
                            "  <tbody>\n",
                            "    <tr>\n",
                            "      <th>0</th>\n",
                            "      <td>zero</td>\n",
                            "      <td>0</td>\n",
                            "      <td>NaN</td>\n",
                            "    </tr>\n",
                            "    <tr>\n",
                            "      <th>1</th>\n",
                            "      <td>one</td>\n",
                            "      <td>1</td>\n",
                            "      <td>NaN</td>\n",
                            "    </tr>\n",
                            "    <tr>\n",
                            "      <th>2</th>\n",
                            "      <td>two</td>\n",
                            "      <td>2</td>\n",
                            "      <td>yes</td>\n",
                            "    </tr>\n",
                            "    <tr>\n",
                            "      <th>3</th>\n",
                            "      <td>three</td>\n",
                            "      <td>3</td>\n",
                            "      <td>NaN</td>\n",
                            "    </tr>\n",
                            "    <tr>\n",
                            "      <th>4</th>\n",
                            "      <td>four</td>\n",
                            "      <td>4</td>\n",
                            "      <td>yes</td>\n",
                            "    </tr>\n",
                            "    <tr>\n",
                            "      <th>5</th>\n",
                            "      <td>five</td>\n",
                            "      <td>5</td>\n",
                            "      <td>NaN</td>\n",
                            "    </tr>\n",
                            "  </tbody>\n",
                            "</table>\n",
                            "</div>\n",
                            "      <button class=\"colab-df-convert\" onclick=\"convertToInteractive('df-8bcd4183-55da-4e2d-a09c-0b8692e09648')\"\n",
                            "              title=\"Convert this dataframe to an interactive table.\"\n",
                            "              style=\"display:none;\">\n",
                            "        \n",
                            "  <svg xmlns=\"http://www.w3.org/2000/svg\" height=\"24px\"viewBox=\"0 0 24 24\"\n",
                            "       width=\"24px\">\n",
                            "    <path d=\"M0 0h24v24H0V0z\" fill=\"none\"/>\n",
                            "    <path d=\"M18.56 5.44l.94 2.06.94-2.06 2.06-.94-2.06-.94-.94-2.06-.94 2.06-2.06.94zm-11 1L8.5 8.5l.94-2.06 2.06-.94-2.06-.94L8.5 2.5l-.94 2.06-2.06.94zm10 10l.94 2.06.94-2.06 2.06-.94-2.06-.94-.94-2.06-.94 2.06-2.06.94z\"/><path d=\"M17.41 7.96l-1.37-1.37c-.4-.4-.92-.59-1.43-.59-.52 0-1.04.2-1.43.59L10.3 9.45l-7.72 7.72c-.78.78-.78 2.05 0 2.83L4 21.41c.39.39.9.59 1.41.59.51 0 1.02-.2 1.41-.59l7.78-7.78 2.81-2.81c.8-.78.8-2.07 0-2.86zM5.41 20L4 18.59l7.72-7.72 1.47 1.35L5.41 20z\"/>\n",
                            "  </svg>\n",
                            "      </button>\n",
                            "      \n",
                            "  <style>\n",
                            "    .colab-df-container {\n",
                            "      display:flex;\n",
                            "      flex-wrap:wrap;\n",
                            "      gap: 12px;\n",
                            "    }\n",
                            "\n",
                            "    .colab-df-convert {\n",
                            "      background-color: #E8F0FE;\n",
                            "      border: none;\n",
                            "      border-radius: 50%;\n",
                            "      cursor: pointer;\n",
                            "      display: none;\n",
                            "      fill: #1967D2;\n",
                            "      height: 32px;\n",
                            "      padding: 0 0 0 0;\n",
                            "      width: 32px;\n",
                            "    }\n",
                            "\n",
                            "    .colab-df-convert:hover {\n",
                            "      background-color: #E2EBFA;\n",
                            "      box-shadow: 0px 1px 2px rgba(60, 64, 67, 0.3), 0px 1px 3px 1px rgba(60, 64, 67, 0.15);\n",
                            "      fill: #174EA6;\n",
                            "    }\n",
                            "\n",
                            "    [theme=dark] .colab-df-convert {\n",
                            "      background-color: #3B4455;\n",
                            "      fill: #D2E3FC;\n",
                            "    }\n",
                            "\n",
                            "    [theme=dark] .colab-df-convert:hover {\n",
                            "      background-color: #434B5C;\n",
                            "      box-shadow: 0px 1px 3px 1px rgba(0, 0, 0, 0.15);\n",
                            "      filter: drop-shadow(0px 1px 2px rgba(0, 0, 0, 0.3));\n",
                            "      fill: #FFFFFF;\n",
                            "    }\n",
                            "  </style>\n",
                            "\n",
                            "      <script>\n",
                            "        const buttonEl =\n",
                            "          document.querySelector('#df-8bcd4183-55da-4e2d-a09c-0b8692e09648 button.colab-df-convert');\n",
                            "        buttonEl.style.display =\n",
                            "          google.colab.kernel.accessAllowed ? 'block' : 'none';\n",
                            "\n",
                            "        async function convertToInteractive(key) {\n",
                            "          const element = document.querySelector('#df-8bcd4183-55da-4e2d-a09c-0b8692e09648');\n",
                            "          const dataTable =\n",
                            "            await google.colab.kernel.invokeFunction('convertToInteractive',\n",
                            "                                                     [key], {});\n",
                            "          if (!dataTable) return;\n",
                            "\n",
                            "          const docLinkHtml = 'Like what you see? Visit the ' +\n",
                            "            '<a target=\"_blank\" href=https://colab.research.google.com/notebooks/data_table.ipynb>data table notebook</a>'\n",
                            "            + ' to learn more about interactive tables.';\n",
                            "          element.innerHTML = '';\n",
                            "          dataTable['output_type'] = 'display_data';\n",
                            "          await google.colab.output.renderOutput(dataTable, element);\n",
                            "          const docLink = document.createElement('div');\n",
                            "          docLink.innerHTML = docLinkHtml;\n",
                            "          element.appendChild(docLink);\n",
                            "        }\n",
                            "      </script>\n",
                            "    </div>\n",
                            "  </div>\n",
                            "  "
                        ],
                        "text/plain": [
                            "  english  digits multiple\n",
                            "0    zero       0      NaN\n",
                            "1     one       1      NaN\n",
                            "2     two       2      yes\n",
                            "3   three       3      NaN\n",
                            "4    four       4      yes\n",
                            "5    five       5      NaN"
                        ]
                    },
                    "execution_count": 11,
                    "metadata": {},
                    "output_type": "execute_result"
                }
            ],
            "source": [
                "data_number['multiple'] = data_number['english'].map(english_to_multiple)\n",
                "data_number"
            ]
        },
        {
            "cell_type": "markdown",
            "metadata": {
                "id": "AiLPk4dwT0od"
            },
            "source": [
                "- Les autres colonnes sont remplies de valeurs NaN et vous savez déjà comment travailler davantage avec les valeurs manquantes.\n",
                "- C'était un exemple simple.\n",
                "- Mais j'espère que vous pourrez trouver l'inspiration pour utiliser des idées d'ici pour utiliser la fonction de carte pour faire plus de choses et l'utiliser dans vos cas d'utilisation spécifiques."
            ]
        },
        {
            "cell_type": "markdown",
            "metadata": {
                "id": "_BVz6TedT7TD"
            },
            "source": [
                "# **Discrétisation - Fonction Cut**\n",
                "- Parfois, vous souhaiterez peut-être catégoriser en fonction d'une certaine logique et placer toutes les données dans des compartiments ou des bacs discrets à des fins d'analyse.\n",
                "- Vous pouvez utiliser la cut()fonction pour cela.\n",
                "- Par exemple, créons d'abord un ensemble de données contenant 30 nombres aléatoires entre 1 et 100."
            ]
        },
        {
            "cell_type": "code",
            "execution_count": null,
            "metadata": {
                "colab": {
                    "base_uri": "https://localhost:8080/"
                },
                "id": "8JWjruEKUPGS",
                "outputId": "3356e45f-d420-45be-e10d-ebb267de9d70"
            },
            "outputs": [
                {
                    "data": {
                        "text/plain": [
                            "[100,\n",
                            " 35,\n",
                            " 21,\n",
                            " 61,\n",
                            " 38,\n",
                            " 96,\n",
                            " 81,\n",
                            " 71,\n",
                            " 90,\n",
                            " 37,\n",
                            " 65,\n",
                            " 78,\n",
                            " 67,\n",
                            " 54,\n",
                            " 20,\n",
                            " 79,\n",
                            " 19,\n",
                            " 80,\n",
                            " 62,\n",
                            " 8,\n",
                            " 52,\n",
                            " 42,\n",
                            " 1,\n",
                            " 64,\n",
                            " 53,\n",
                            " 92,\n",
                            " 13,\n",
                            " 75,\n",
                            " 5,\n",
                            " 83]"
                        ]
                    },
                    "execution_count": 12,
                    "metadata": {},
                    "output_type": "execute_result"
                }
            ],
            "source": [
                "import random\n",
                "\n",
                "data = random.sample(range(1, 101), 30)\n",
                "data"
            ]
        },
        {
            "cell_type": "markdown",
            "metadata": {
                "id": "XnEglXVlUUst"
            },
            "source": [
                "- Disons que nous voulons les catégoriser en fonction d'un seau que nous définissons nous-mêmes : nombres entre 1 et 25, puis 25 - 35, 40 - 60, puis 60 - 80, puis le reste. Nous définissons donc un seau...\n",
                "\n",
                "- Ensuite, nous utiliserons la fonction de cut ."
            ]
        },
        {
            "cell_type": "code",
            "execution_count": null,
            "metadata": {
                "colab": {
                    "base_uri": "https://localhost:8080/"
                },
                "id": "1VGsS1j-UbN2",
                "outputId": "9be0ef33-d0f5-40dc-d58c-299310f03df6"
            },
            "outputs": [
                {
                    "data": {
                        "text/plain": [
                            "[(80, 100], (25, 35], (1, 25], (60, 80], (35, 60], ..., (80, 100], (1, 25], (60, 80], (1, 25], (80, 100]]\n",
                            "Length: 30\n",
                            "Categories (5, interval[int64, right]): [(1, 25] < (25, 35] < (35, 60] < (60, 80] < (80, 100]]"
                        ]
                    },
                    "execution_count": 13,
                    "metadata": {},
                    "output_type": "execute_result"
                }
            ],
            "source": [
                "# Defining the starting value for each bucket\n",
                "bucket = [1, 25, 35, 60, 80, 100]\n",
                "\n",
                "cut_data = pd.#fill_here\n",
                "cut_data"
            ]
        },
        {
            "attachments": {},
            "cell_type": "markdown",
            "metadata": {
                "id": "QyjQIGqYUmLq"
            },
            "source": [
                "# **Variables factices et encodages One-Hot**\n",
                "![image](https://user-images.githubusercontent.com/123748165/226334793-08f76cdd-2f7d-44cb-ac2e-10175d2af9c7.png)\n",
                "- Cette rubrique est particulièrement utile lorsque vous souhaitez pouvoir convertir certaines données catégorielles en valeurs numériques afin de pouvoir les utiliser dans votre modèle d'analyse de données.\n",
                "- Ceci est particulièrement pratique, en particulier lors de la modélisation d'apprentissage automatique, où le concept d'encodage à chaud est célèbre. En utilisant des termes plus techniques :\n",
                "- le codage à chaud est le processus de conversion de valeurs catégorielles en un vecteur numérique unidimensionnel.\n",
                "\n",
                "- Une façon de faire cela en utilisant pandas est d'utiliser la get_dummies()fonction.\n",
                "- Si une colonne de votre dataframe a 'n' valeurs distinctes, la fonction dérivera une matrice avec 'n' colonnes contenant tous les 1 et 0.\n",
                "- Voyons cela avec un exemple pour mieux saisir le concept..."
            ]
        },
        {
            "cell_type": "code",
            "execution_count": null,
            "metadata": {
                "colab": {
                    "base_uri": "https://localhost:8080/"
                },
                "id": "JIYJDhPUU6c6",
                "outputId": "f9c7bc5f-28ab-49f1-fbdf-547952335ec3"
            },
            "outputs": [
                {
                    "data": {
                        "text/plain": [
                            "0     a\n",
                            "1     b\n",
                            "2     c\n",
                            "3     d\n",
                            "4     a\n",
                            "5     b\n",
                            "6     a\n",
                            "7     b\n",
                            "8     c\n",
                            "9     d\n",
                            "10    a\n",
                            "11    b\n",
                            "12    c\n",
                            "13    d\n",
                            "dtype: object"
                        ]
                    },
                    "execution_count": 14,
                    "metadata": {},
                    "output_type": "execute_result"
                }
            ],
            "source": [
                "# Créer un dataframe à partir de chaque caractère du mot 'abcdababcdabcd'\n",
                "data = #fill_here\n",
                "data"
            ]
        },
        {
            "cell_type": "markdown",
            "metadata": {
                "id": "PdVuSgPKVNiP"
            },
            "source": [
                "- Supposons maintenant que vous souhaitiez disposer de vecteurs individuels indiquant l'apparence de chaque caractère pour l'alimenter en fonction.\n",
                "\n",
                "- Quelque chose comme ceci : pour 'a' = [1,0,0,0,1,0,1,0,0,0,1,0,0,0] où 1 est à la position où 'a' existe et 0 là où ce n'est pas le cas.\n",
                "- L'utilisation de la get_dummies()fonction facilitera la tâche."
            ]
        },
        {
            "cell_type": "code",
            "execution_count": null,
            "metadata": {
                "colab": {
                    "base_uri": "https://localhost:8080/",
                    "height": 488
                },
                "id": "YIFLZeiEVRoE",
                "outputId": "fdcff5a5-88b5-46bb-9595-7f51c85ddeb1"
            },
            "outputs": [
                {
                    "data": {
                        "text/html": [
                            "\n",
                            "  <div id=\"df-fe7ab37a-cd15-44ed-af3c-c8fd17f1dd56\">\n",
                            "    <div class=\"colab-df-container\">\n",
                            "      <div>\n",
                            "<style scoped>\n",
                            "    .dataframe tbody tr th:only-of-type {\n",
                            "        vertical-align: middle;\n",
                            "    }\n",
                            "\n",
                            "    .dataframe tbody tr th {\n",
                            "        vertical-align: top;\n",
                            "    }\n",
                            "\n",
                            "    .dataframe thead th {\n",
                            "        text-align: right;\n",
                            "    }\n",
                            "</style>\n",
                            "<table border=\"1\" class=\"dataframe\">\n",
                            "  <thead>\n",
                            "    <tr style=\"text-align: right;\">\n",
                            "      <th></th>\n",
                            "      <th>a</th>\n",
                            "      <th>b</th>\n",
                            "      <th>c</th>\n",
                            "      <th>d</th>\n",
                            "    </tr>\n",
                            "  </thead>\n",
                            "  <tbody>\n",
                            "    <tr>\n",
                            "      <th>0</th>\n",
                            "      <td>1</td>\n",
                            "      <td>0</td>\n",
                            "      <td>0</td>\n",
                            "      <td>0</td>\n",
                            "    </tr>\n",
                            "    <tr>\n",
                            "      <th>1</th>\n",
                            "      <td>0</td>\n",
                            "      <td>1</td>\n",
                            "      <td>0</td>\n",
                            "      <td>0</td>\n",
                            "    </tr>\n",
                            "    <tr>\n",
                            "      <th>2</th>\n",
                            "      <td>0</td>\n",
                            "      <td>0</td>\n",
                            "      <td>1</td>\n",
                            "      <td>0</td>\n",
                            "    </tr>\n",
                            "    <tr>\n",
                            "      <th>3</th>\n",
                            "      <td>0</td>\n",
                            "      <td>0</td>\n",
                            "      <td>0</td>\n",
                            "      <td>1</td>\n",
                            "    </tr>\n",
                            "    <tr>\n",
                            "      <th>4</th>\n",
                            "      <td>1</td>\n",
                            "      <td>0</td>\n",
                            "      <td>0</td>\n",
                            "      <td>0</td>\n",
                            "    </tr>\n",
                            "    <tr>\n",
                            "      <th>5</th>\n",
                            "      <td>0</td>\n",
                            "      <td>1</td>\n",
                            "      <td>0</td>\n",
                            "      <td>0</td>\n",
                            "    </tr>\n",
                            "    <tr>\n",
                            "      <th>6</th>\n",
                            "      <td>1</td>\n",
                            "      <td>0</td>\n",
                            "      <td>0</td>\n",
                            "      <td>0</td>\n",
                            "    </tr>\n",
                            "    <tr>\n",
                            "      <th>7</th>\n",
                            "      <td>0</td>\n",
                            "      <td>1</td>\n",
                            "      <td>0</td>\n",
                            "      <td>0</td>\n",
                            "    </tr>\n",
                            "    <tr>\n",
                            "      <th>8</th>\n",
                            "      <td>0</td>\n",
                            "      <td>0</td>\n",
                            "      <td>1</td>\n",
                            "      <td>0</td>\n",
                            "    </tr>\n",
                            "    <tr>\n",
                            "      <th>9</th>\n",
                            "      <td>0</td>\n",
                            "      <td>0</td>\n",
                            "      <td>0</td>\n",
                            "      <td>1</td>\n",
                            "    </tr>\n",
                            "    <tr>\n",
                            "      <th>10</th>\n",
                            "      <td>1</td>\n",
                            "      <td>0</td>\n",
                            "      <td>0</td>\n",
                            "      <td>0</td>\n",
                            "    </tr>\n",
                            "    <tr>\n",
                            "      <th>11</th>\n",
                            "      <td>0</td>\n",
                            "      <td>1</td>\n",
                            "      <td>0</td>\n",
                            "      <td>0</td>\n",
                            "    </tr>\n",
                            "    <tr>\n",
                            "      <th>12</th>\n",
                            "      <td>0</td>\n",
                            "      <td>0</td>\n",
                            "      <td>1</td>\n",
                            "      <td>0</td>\n",
                            "    </tr>\n",
                            "    <tr>\n",
                            "      <th>13</th>\n",
                            "      <td>0</td>\n",
                            "      <td>0</td>\n",
                            "      <td>0</td>\n",
                            "      <td>1</td>\n",
                            "    </tr>\n",
                            "  </tbody>\n",
                            "</table>\n",
                            "</div>\n",
                            "      <button class=\"colab-df-convert\" onclick=\"convertToInteractive('df-fe7ab37a-cd15-44ed-af3c-c8fd17f1dd56')\"\n",
                            "              title=\"Convert this dataframe to an interactive table.\"\n",
                            "              style=\"display:none;\">\n",
                            "        \n",
                            "  <svg xmlns=\"http://www.w3.org/2000/svg\" height=\"24px\"viewBox=\"0 0 24 24\"\n",
                            "       width=\"24px\">\n",
                            "    <path d=\"M0 0h24v24H0V0z\" fill=\"none\"/>\n",
                            "    <path d=\"M18.56 5.44l.94 2.06.94-2.06 2.06-.94-2.06-.94-.94-2.06-.94 2.06-2.06.94zm-11 1L8.5 8.5l.94-2.06 2.06-.94-2.06-.94L8.5 2.5l-.94 2.06-2.06.94zm10 10l.94 2.06.94-2.06 2.06-.94-2.06-.94-.94-2.06-.94 2.06-2.06.94z\"/><path d=\"M17.41 7.96l-1.37-1.37c-.4-.4-.92-.59-1.43-.59-.52 0-1.04.2-1.43.59L10.3 9.45l-7.72 7.72c-.78.78-.78 2.05 0 2.83L4 21.41c.39.39.9.59 1.41.59.51 0 1.02-.2 1.41-.59l7.78-7.78 2.81-2.81c.8-.78.8-2.07 0-2.86zM5.41 20L4 18.59l7.72-7.72 1.47 1.35L5.41 20z\"/>\n",
                            "  </svg>\n",
                            "      </button>\n",
                            "      \n",
                            "  <style>\n",
                            "    .colab-df-container {\n",
                            "      display:flex;\n",
                            "      flex-wrap:wrap;\n",
                            "      gap: 12px;\n",
                            "    }\n",
                            "\n",
                            "    .colab-df-convert {\n",
                            "      background-color: #E8F0FE;\n",
                            "      border: none;\n",
                            "      border-radius: 50%;\n",
                            "      cursor: pointer;\n",
                            "      display: none;\n",
                            "      fill: #1967D2;\n",
                            "      height: 32px;\n",
                            "      padding: 0 0 0 0;\n",
                            "      width: 32px;\n",
                            "    }\n",
                            "\n",
                            "    .colab-df-convert:hover {\n",
                            "      background-color: #E2EBFA;\n",
                            "      box-shadow: 0px 1px 2px rgba(60, 64, 67, 0.3), 0px 1px 3px 1px rgba(60, 64, 67, 0.15);\n",
                            "      fill: #174EA6;\n",
                            "    }\n",
                            "\n",
                            "    [theme=dark] .colab-df-convert {\n",
                            "      background-color: #3B4455;\n",
                            "      fill: #D2E3FC;\n",
                            "    }\n",
                            "\n",
                            "    [theme=dark] .colab-df-convert:hover {\n",
                            "      background-color: #434B5C;\n",
                            "      box-shadow: 0px 1px 3px 1px rgba(0, 0, 0, 0.15);\n",
                            "      filter: drop-shadow(0px 1px 2px rgba(0, 0, 0, 0.3));\n",
                            "      fill: #FFFFFF;\n",
                            "    }\n",
                            "  </style>\n",
                            "\n",
                            "      <script>\n",
                            "        const buttonEl =\n",
                            "          document.querySelector('#df-fe7ab37a-cd15-44ed-af3c-c8fd17f1dd56 button.colab-df-convert');\n",
                            "        buttonEl.style.display =\n",
                            "          google.colab.kernel.accessAllowed ? 'block' : 'none';\n",
                            "\n",
                            "        async function convertToInteractive(key) {\n",
                            "          const element = document.querySelector('#df-fe7ab37a-cd15-44ed-af3c-c8fd17f1dd56');\n",
                            "          const dataTable =\n",
                            "            await google.colab.kernel.invokeFunction('convertToInteractive',\n",
                            "                                                     [key], {});\n",
                            "          if (!dataTable) return;\n",
                            "\n",
                            "          const docLinkHtml = 'Like what you see? Visit the ' +\n",
                            "            '<a target=\"_blank\" href=https://colab.research.google.com/notebooks/data_table.ipynb>data table notebook</a>'\n",
                            "            + ' to learn more about interactive tables.';\n",
                            "          element.innerHTML = '';\n",
                            "          dataTable['output_type'] = 'display_data';\n",
                            "          await google.colab.output.renderOutput(dataTable, element);\n",
                            "          const docLink = document.createElement('div');\n",
                            "          docLink.innerHTML = docLinkHtml;\n",
                            "          element.appendChild(docLink);\n",
                            "        }\n",
                            "      </script>\n",
                            "    </div>\n",
                            "  </div>\n",
                            "  "
                        ],
                        "text/plain": [
                            "    a  b  c  d\n",
                            "0   1  0  0  0\n",
                            "1   0  1  0  0\n",
                            "2   0  0  1  0\n",
                            "3   0  0  0  1\n",
                            "4   1  0  0  0\n",
                            "5   0  1  0  0\n",
                            "6   1  0  0  0\n",
                            "7   0  1  0  0\n",
                            "8   0  0  1  0\n",
                            "9   0  0  0  1\n",
                            "10  1  0  0  0\n",
                            "11  0  1  0  0\n",
                            "12  0  0  1  0\n",
                            "13  0  0  0  1"
                        ]
                    },
                    "execution_count": 15,
                    "metadata": {},
                    "output_type": "execute_result"
                }
            ],
            "source": [
                "pd.get_dummies(data)"
            ]
        }
    ],
    "metadata": {
        "kernelspec": {
            "display_name": "Python 3",
            "name": "python3"
        },
        "language_info": {
            "name": "python"
        }
    },
    "nbformat": 4,
    "nbformat_minor": 0
}
