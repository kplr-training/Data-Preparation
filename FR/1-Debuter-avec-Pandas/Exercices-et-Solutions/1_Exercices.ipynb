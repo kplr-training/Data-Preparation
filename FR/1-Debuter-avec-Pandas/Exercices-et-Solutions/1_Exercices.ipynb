{
    "cells": [
        {
            "cell_type": "markdown",
            "metadata": {
                "id": "view-in-github",
                "colab_type": "text"
            },
            "source": [
                "<a href=\"https://colab.research.google.com/github/kplr-training/Data-Preparation/blob/main/FR/1-D%C3%A9buter-avec-Pandas/Exercices-et-Solutions/1_Exercices.ipynb\" target=\"_blank\"><img src=\"https://colab.research.google.com/assets/colab-badge.svg\" alt=\"Open In Colab\"/></a>"
            ]
        },
        {
            "attachments": {},
            "cell_type": "markdown",
            "metadata": {
                "id": "gPQ9DA5VQpyP"
            },
            "source": [
                "**Exercice 1 :**    \n",
                "Cr\u00e9er un programme pandas Python qui traite les donn\u00e9es du tableau suivant \u00e0 l'aide d'un DataFrame et les affiches sous forme d'un tableau \u00e0 l'\u00e9cran:\n",
                "\n",
                "![image](https://user-images.githubusercontent.com/123748165/226333321-a26d48aa-a3d8-4d4a-8dd0-fe0745f0c81c.png)"
            ]
        },
        {
            "cell_type": "code",
            "execution_count": null,
            "metadata": {
                "id": "hczTxtG5QTPn"
            },
            "outputs": [],
            "source": [
                "#solution"
            ]
        },
        {
            "cell_type": "markdown",
            "metadata": {
                "id": "az373nbCRlfE"
            },
            "source": [
                "**Exercice 2 :**    \n",
                "Cr\u00e9er un programme pandas python qui permet de convertir la s\u00e9rie:"
            ]
        },
        {
            "cell_type": "code",
            "execution_count": null,
            "metadata": {
                "id": "XJUCW8CsSFTs"
            },
            "outputs": [],
            "source": [
                "serie = pandas.Serie(numpy.array (['P', 'a', 'n', 'd', 'a' , 's']))"
            ]
        },
        {
            "cell_type": "markdown",
            "metadata": {
                "id": "BCWAWqktSHbC"
            },
            "source": [
                "en la chaine de caract\u00e8res form\u00e9e par les \u00e9l\u00e9ments de la s\u00e9rie. Le programme doit renvoyer la chaine s = \"Pandas\"."
            ]
        },
        {
            "cell_type": "code",
            "execution_count": null,
            "metadata": {
                "id": "lEZkaUupSQmM"
            },
            "outputs": [],
            "source": [
                "#solution"
            ]
        },
        {
            "cell_type": "markdown",
            "metadata": {
                "id": "dKGvvdBeSbc_"
            },
            "source": [
                "**Exercice 3 :**    \n",
                "Ecrire un programme pandas python qui permet de supprimer un \u00e9l\u00e9ment de la s\u00e9rie:"
            ]
        },
        {
            "cell_type": "code",
            "execution_count": null,
            "metadata": {
                "id": "4nUqpIsjSmuA"
            },
            "outputs": [],
            "source": [
                "pandas.Series(['Python' , 'Djnago' , 'Tkinter' , 'PyQt' , 'numpy'])"
            ]
        },
        {
            "cell_type": "markdown",
            "metadata": {
                "id": "G8VuSBQgSpJW"
            },
            "source": [
                "Supprimer le dernier \u00e9l\u00e9ment \u00e0 titre d'exemple."
            ]
        },
        {
            "cell_type": "code",
            "execution_count": null,
            "metadata": {
                "id": "poXfZQb1TcGg"
            },
            "outputs": [],
            "source": [
                "#solution"
            ]
        },
        {
            "cell_type": "markdown",
            "metadata": {
                "id": "0BhKVl2qS4Xv"
            },
            "source": [
                "**Exercice 4 :**    \n",
                "Reprendre l'exercice pr\u00e9c\u00e9dent **(Exercice3)** en cr\u00e9ant cette fois-ci un programme bas\u00e9 sur la biblioth\u00e8que pandas python qui supprime les \u00e9l\u00e9ments d'index pair de la s\u00e9rie."
            ]
        },
        {
            "cell_type": "code",
            "execution_count": null,
            "metadata": {
                "id": "EhAJ2YS5TZyH"
            },
            "outputs": [],
            "source": [
                "#soultion"
            ]
        },
        {
            "cell_type": "markdown",
            "metadata": {
                "id": "wFNL_aSLT0N-"
            },
            "source": [
                "**Exercice 5 :**    \n",
                "Modfifier le programme suivant afin de supprimer la colonne 'Section' et la remplacer par la colonne: Age = [ 22 , 23 , 21 , 20 , 25 ] sans toucher \u00e0 laliste data. les modifiction doivent \u00eatre apport\u00e9es uniquement au DataFrame df:"
            ]
        },
        {
            "cell_type": "code",
            "execution_count": null,
            "metadata": {
                "id": "5x-Le8gUUD3l"
            },
            "outputs": [],
            "source": [
                "import pandas as ps\n",
                " \n",
                "# liste des donn\u00e9es\n",
                "data = [['Tomas' , 'tomas@gmail.com' , 'Math'], \n",
                "        ['Albert' ,'albert@gmail.com' , 'SVT' ],\n",
                "        ['Nathalie', 'nathalie@gmail.com' , 'Sc Eco'], \n",
                "        ['Roberto' ,'roberto@gmail.com' , 'Physique'],\n",
                "        ['Adam' , 'adam@gmail.com' , 'Info']]\n",
                "labels = [11 , 12, 13 , 14, 15]\n",
                " \n",
                "# cr\u00e9ation du DataFrame\n",
                "df = ps.DataFrame(data , index=labels , columns=[ 'Name' , 'Email' , 'Section'])"
            ]
        },
        {
            "cell_type": "code",
            "execution_count": null,
            "metadata": {
                "id": "SzOIPql3UEyC"
            },
            "outputs": [],
            "source": [
                "#solution"
            ]
        },
        {
            "cell_type": "markdown",
            "metadata": {
                "id": "UUjEdKC2fu-9"
            },
            "source": [
                "**Exercice 6 :**    \n",
                "A partir du programme suivant qui represente les donn\u00e9es des \u00e9tudiants dans un DataFrame:"
            ]
        },
        {
            "cell_type": "code",
            "execution_count": null,
            "metadata": {
                "id": "EJy5roV9f2JW"
            },
            "outputs": [],
            "source": [
                "import pandas as ps\n",
                " \n",
                "# liste des donn\u00e9es\n",
                "data = [['Tomas' , 'tomas@gmail.com' , 'Math'], \n",
                "        ['Albert' ,'albert@gmail.com' , 'SVT' ],\n",
                "        ['Nathalie', 'nathalie@gmail.com' , 'Sc Eco'], \n",
                "        ['Roberto' ,'roberto@gmail.com' , 'Physique'],\n",
                "        ['Adam' , 'adam@gmail.com' , 'Info']]\n",
                "labels = [11 , 12, 13 , 14, 15]\n",
                " \n",
                "# cr\u00e9ation du DataFrame\n",
                "df = ps.DataFrame(data , index=labels , columns=[ 'Name' , 'Email' , 'Section'])\n",
                " \n"
            ]
        },
        {
            "cell_type": "code",
            "execution_count": null,
            "metadata": {
                "id": "k0I_eCgMf-NR"
            },
            "outputs": [],
            "source": [
                "#solution"
            ]
        },
        {
            "cell_type": "markdown",
            "metadata": {
                "id": "aS5gSlTzgOgt"
            },
            "source": [
                "**Exercice 7 :**    \n",
                "Ecrire un programme python pandas qui permet de s\u00e9lectionner et afficher uniquement les deux colonnes 'Nom' et 'Age':"
            ]
        },
        {
            "cell_type": "code",
            "execution_count": null,
            "metadata": {
                "id": "pH3LsA3Tgas5"
            },
            "outputs": [],
            "source": [
                "dictData = {'ID' : [31, 71, 30 , 11 , 23] , \n",
                "            'Nom': ['Julia', 'Tiago', 'Charlie' , 'Alba' , 'Isaac'],  \n",
                "        'Age': [22, 21, 20, 20 , 23], \n",
                "        'Taille': [170, 190, 181 , 175 , 165]}\n",
                "# cr\u00e9ation du dataframe\n",
                "df = ps.DataFrame(dictData , index=[235 , 155 , 243 , 311 , 117])\n",
                " "
            ]
        },
        {
            "cell_type": "code",
            "execution_count": null,
            "metadata": {
                "id": "wbHrx6TRk62j"
            },
            "outputs": [],
            "source": [
                "#solution"
            ]
        },
        {
            "cell_type": "markdown",
            "metadata": {
                "id": "eDw9myRJhJwj"
            },
            "source": [
                "**Exercice 8 :**    \n",
                "Ecrire un programme pandas python permettant de r\u00e9cup\u00e9rer la liste des index de la s\u00e9rie pandas suivante:"
            ]
        },
        {
            "cell_type": "code",
            "execution_count": null,
            "metadata": {
                "id": "EKjH6_kPhJUB"
            },
            "outputs": [],
            "source": [
                "data = np.array (['P', 'y', 't', 'h', 'o' , 'n'])\n",
                "s = ps.Series(data , index=[12 , 7 , 13 , 22 , 11 , 2])"
            ]
        },
        {
            "cell_type": "code",
            "execution_count": null,
            "metadata": {
                "id": "iMdzC7VQk7uz"
            },
            "outputs": [],
            "source": [
                "#solution"
            ]
        },
        {
            "cell_type": "markdown",
            "metadata": {
                "id": "DMGEiajnjFPM"
            },
            "source": [
                "**Exercice 9 :**    \n",
                "Ecrire un programme bas\u00e9 sur la biblioth\u00e8que python pandas qui permet de convertir la s\u00e9rie pandas suivante en un dictionnaire python:"
            ]
        },
        {
            "cell_type": "code",
            "execution_count": null,
            "metadata": {
                "id": "H2m-MfB3jOpV"
            },
            "outputs": [],
            "source": [
                "s = ps.Series([\"Louis\" , \"Maya\" , \"Yassmine\"  ,  \"Rosa\" , \"Tomas\"] , \n",
                "              index= [17 , 21 , 19 , 13  , 27 ])\n",
                " "
            ]
        },
        {
            "cell_type": "code",
            "execution_count": null,
            "metadata": {
                "id": "amIc8_sDk8sA"
            },
            "outputs": [],
            "source": [
                "#solution"
            ]
        },
        {
            "cell_type": "markdown",
            "metadata": {
                "id": "MpfL7nOYkM18"
            },
            "source": [
                "**Exercice 10 :**    \n",
                "Ecrire un programme bas\u00e9 sur la biblioth\u00e8que pandas python qui permet d'ajouter le nom 'Clara' \u00e0 la s\u00e9rie pandas suivante:"
            ]
        },
        {
            "cell_type": "code",
            "execution_count": null,
            "metadata": {
                "id": "gDFM1xkAknEA"
            },
            "outputs": [],
            "source": [
                "s = pandas.Series([\"Emma\" , \"Alice\" , \"Paul\"  ,  \"Tiago\" , \"Julia\"] , \n",
                "              index= [17 , 21 , 19 , 13  , 27 ])"
            ]
        },
        {
            "cell_type": "code",
            "execution_count": null,
            "metadata": {
                "id": "9gBK8J4ok9Z3"
            },
            "outputs": [],
            "source": [
                "#solution"
            ]
        }
    ],
    "metadata": {
        "kernelspec": {
            "display_name": "Python 3",
            "name": "python3"
        },
        "language_info": {
            "name": "python"
        }
    },
    "nbformat": 4,
    "nbformat_minor": 0
}