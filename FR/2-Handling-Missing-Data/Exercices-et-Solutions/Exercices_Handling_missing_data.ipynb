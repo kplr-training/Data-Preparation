{
    "cells": [
        {
            "cell_type": "markdown",
            "metadata": {
                "id": "R0MImSXuBzbN"
            },
            "source": [
                "**Exercice 1 :**    \n",
                "- Écrivez un programme Pandas pour détecter les valeurs manquantes d'un DataFrame donné.\n",
                "- Afficher Vrai ou Faux."
            ]
        },
        {
            "cell_type": "code",
            "execution_count": 1,
            "metadata": {
                "id": "SH4V3g08BjVe"
            },
            "outputs": [],
            "source": [
                "import pandas as pd\n",
                "import numpy as np\n",
                "pd.set_option('display.max_rows', None)\n",
                "df = pd.DataFrame({\n",
                "'ord_no':[70001,np.nan,70002,70004,np.nan,70005,np.nan,70010,70003,70012,np.nan,70013],\n",
                "'purch_amt':[150.5,270.65,65.26,110.5,948.5,2400.6,5760,1983.43,2480.4,250.45, 75.29,3045.6],\n",
                "'ord_date': ['2012-10-05','2012-09-10',np.nan,'2012-08-17','2012-09-10','2012-07-27','2012-09-10','2012-10-10','2012-10-10','2012-06-27','2012-08-17','2012-04-25'],\n",
                "'customer_id':[3002,3001,3001,3003,3002,3001,3001,3004,3003,3002,3001,3001],\n",
                "'salesman_id':[5002,5003,5001,np.nan,5002,5001,5001,np.nan,5003,5002,5003,np.nan]})"
            ]
        },
        {
            "cell_type": "code",
            "execution_count": null,
            "metadata": {
                "id": "NRFCXILaCB5O"
            },
            "outputs": [],
            "source": [
                "#solution"
            ]
        },
        {
            "cell_type": "markdown",
            "metadata": {
                "id": "nvjdBMt3CXhk"
            },
            "source": [
                "**Exercice 2 :**\n",
                "\n",
                "- Écrivez un programme Pandas pour identifier la ou les colonnes de DataFrame  qui ont au moins une valeur manquante."
            ]
        },
        {
            "cell_type": "code",
            "execution_count": null,
            "metadata": {
                "id": "fj_hvQyLCsNy"
            },
            "outputs": [],
            "source": [
                "#solution "
            ]
        },
        {
            "cell_type": "markdown",
            "metadata": {
                "id": "RWUVuT3sDTA3"
            },
            "source": [
                "**Exercice 3 :**   \n",
                "- Écrivez un programme Pandas pour compter le nombre de valeurs manquantes dans chaque colonne d'un DataFrame."
            ]
        },
        {
            "cell_type": "code",
            "execution_count": null,
            "metadata": {
                "id": "W0u-gGstDnKE"
            },
            "outputs": [],
            "source": [
                "#solution"
            ]
        },
        {
            "cell_type": "markdown",
            "metadata": {
                "id": "9sIRBbNODtML"
            },
            "source": [
                "**Exercice 4 :**     \n",
                "- Écrivez un programme Pandas pour rechercher et remplacer les valeurs manquantes dans un DataFrame  qui ne contiennent aucune information précieuse."
            ]
        },
        {
            "cell_type": "code",
            "execution_count": null,
            "metadata": {
                "id": "nV-J8gyNED_C"
            },
            "outputs": [],
            "source": [
                "#solution"
            ]
        },
        {
            "cell_type": "markdown",
            "metadata": {
                "id": "sLU1-DpREYAm"
            },
            "source": [
                "**Exercice 5:**   \n",
                "- Écrivez un programme Pandas pour supprimer les lignes où au moins un élément manque dans un DataFrame."
            ]
        },
        {
            "cell_type": "code",
            "execution_count": null,
            "metadata": {
                "id": "nrTZgJQVEeW5"
            },
            "outputs": [],
            "source": [
                "#solution"
            ]
        },
        {
            "cell_type": "markdown",
            "metadata": {
                "id": "bhbe-NNVE7h7"
            },
            "source": [
                "**Exercice 6:**\n",
                "\n",
                "- Écrivez un programme Pandas pour supprimer les colonnes où au moins un élément manque dans un DataFrame."
            ]
        },
        {
            "cell_type": "code",
            "execution_count": null,
            "metadata": {
                "id": "MlnHPPB4EvIc"
            },
            "outputs": [],
            "source": [
                "#solution"
            ]
        },
        {
            "cell_type": "markdown",
            "metadata": {
                "id": "e05WjcWZFMNH"
            },
            "source": [
                "**Exercice 7:**\n",
                "- Écrivez un programme Pandas pour supprimer les lignes où tous les éléments manquent dans un DataFrame ."
            ]
        },
        {
            "cell_type": "code",
            "execution_count": null,
            "metadata": {
                "id": "30pENZQ8FVXz"
            },
            "outputs": [],
            "source": [
                "#solution"
            ]
        },
        {
            "cell_type": "markdown",
            "metadata": {
                "id": "81ogv0mOFhKa"
            },
            "source": [
                "**Exercice 8:**\n",
                "- Écrivez un programme Pandas pour conserver les lignes avec au moins 2 valeurs NaN dans un DataFrame."
            ]
        },
        {
            "cell_type": "code",
            "execution_count": null,
            "metadata": {
                "id": "JDJE5SuCFobL"
            },
            "outputs": [],
            "source": [
                "#solution"
            ]
        },
        {
            "cell_type": "markdown",
            "metadata": {
                "id": "kGFFb4PCF6La"
            },
            "source": [
                "**Exercice 9:**\n",
                "- Écrivez un programme Pandas pour supprimer ces lignes d'un DataFrame dans lequel des colonnes spécifiques ont des valeurs manquantes."
            ]
        },
        {
            "cell_type": "code",
            "execution_count": null,
            "metadata": {
                "id": "UWr_qlw5GC_V"
            },
            "outputs": [],
            "source": [
                "#solution"
            ]
        },
        {
            "cell_type": "markdown",
            "metadata": {
                "id": "hHJZ9XLlHlkd"
            },
            "source": [
                "**Exercice 10:**\n",
                "- Écrivez un programme Pandas pour conserver les entrées valides d'un DataFrame."
            ]
        },
        {
            "cell_type": "code",
            "execution_count": null,
            "metadata": {
                "id": "dLE2BFhiIj6e"
            },
            "outputs": [],
            "source": [
                "#solution"
            ]
        },
        {
            "cell_type": "markdown",
            "metadata": {
                "id": "4eY7PZQEH4Jx"
            },
            "source": [
                "**Exercice 11 :**\n",
                "- Écrivez un programme Pandas pour calculer le nombre total de valeurs manquantes dans un DataFrame."
            ]
        },
        {
            "cell_type": "code",
            "execution_count": null,
            "metadata": {
                "id": "WatIJeXeIljq"
            },
            "outputs": [],
            "source": [
                "#solution"
            ]
        },
        {
            "cell_type": "markdown",
            "metadata": {
                "id": "uKISlwI_JN87"
            },
            "source": [
                "**Exercice 12:**\n",
                "- Écrivez un programme Pandas pour remplacer NaNs par une seule valeur constante dans des colonnes spécifiées dans un DataFrame."
            ]
        },
        {
            "cell_type": "code",
            "execution_count": null,
            "metadata": {
                "id": "w_UAKrYvJV98"
            },
            "outputs": [],
            "source": [
                "#solution"
            ]
        },
        {
            "cell_type": "markdown",
            "metadata": {
                "id": "J1iOSzUSJan4"
            },
            "source": [
                "**Exercice 13:**\n",
                "- Écrivez un programme Pandas pour remplacer NaNs par la valeur de la ligne précédente ou de la ligne suivante dans un DataFrame."
            ]
        },
        {
            "cell_type": "code",
            "execution_count": null,
            "metadata": {
                "id": "w9r3XddMJ-OK"
            },
            "outputs": [],
            "source": [
                "#solution"
            ]
        },
        {
            "cell_type": "markdown",
            "metadata": {
                "id": "8k7GnXSiKGmD"
            },
            "source": [
                "**Exercice 14:**\n",
                "- Écrivez un programme Pandas pour remplacer les NaN par la médiane ou la moyenne des colonnes spécifiées dans un DataFrame."
            ]
        },
        {
            "cell_type": "code",
            "execution_count": 7,
            "metadata": {
                "id": "JHck0PKmKdAR"
            },
            "outputs": [],
            "source": [
                "pd.set_option('display.max_rows', None)\n",
                "df = pd.DataFrame({\n",
                "'ord_no':[70001,np.nan,70002,70004,np.nan,70005,np.nan,70010,70003,70012,np.nan,70013],\n",
                "'purch_amt':[150.5,np.nan,65.26,110.5,948.5,np.nan,5760,1983.43,np.nan,250.45, 75.29,3045.6],\n",
                "'sale_amt':[10.5,20.65,np.nan,11.5,98.5,np.nan,57,19.43,np.nan,25.45, 75.29,35.6],\n",
                "'ord_date': ['2012-10-05','2012-09-10',np.nan,'2012-08-17','2012-09-10','2012-07-27','2012-09-10','2012-10-10','2012-10-10','2012-06-27','2012-08-17','2012-04-25'],\n",
                "'customer_id':[3002,3001,3001,3003,3002,3001,3001,3004,3003,3002,3001,3001],\n",
                "'salesman_id':[5002,5003,5001,np.nan,5002,5001,5001,np.nan,5003,5002,5003,np.nan]})"
            ]
        },
        {
            "cell_type": "code",
            "execution_count": null,
            "metadata": {
                "id": "I7REsFsAKQ1o"
            },
            "outputs": [],
            "source": [
                "#solution"
            ]
        }
    ],
    "metadata": {
        "kernelspec": {
            "display_name": "Python 3",
            "name": "python3"
        },
        "language_info": {
            "name": "python"
        }
    },
    "nbformat": 4,
    "nbformat_minor": 0
}
