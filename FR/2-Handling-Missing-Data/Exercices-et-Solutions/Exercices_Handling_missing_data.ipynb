{
    "cells": [
        {
            "cell_type": "markdown",
            "metadata": {
                "id": "view-in-github",
                "colab_type": "text"
            },
            "source": [
                "<a href=\"https://colab.research.google.com/github/kplr-training/Data-Preparation/blob/main/FR/2-Handling-Missing-Data/Exercices-et-Solutions/Exercices_Handling_missing_data.ipynb\" target=\"_blank\"><img src=\"https://colab.research.google.com/assets/colab-badge.svg\" alt=\"Open In Colab\"/></a>"
            ]
        },
        {
            "cell_type": "markdown",
            "metadata": {
                "id": "R0MImSXuBzbN"
            },
            "source": [
                "**Exercice 1 :**    \n",
                "- \u00c9crivez un programme Pandas pour d\u00e9tecter les valeurs manquantes d'un DataFrame donn\u00e9.\n",
                "- Afficher Vrai ou Faux."
            ]
        },
        {
            "cell_type": "code",
            "execution_count": 1,
            "metadata": {
                "id": "SH4V3g08BjVe"
            },
            "outputs": [],
            "source": [
                "import pandas as pd\n",
                "import numpy as np\n",
                "pd.set_option('display.max_rows', None)\n",
                "df = pd.DataFrame({\n",
                "'ord_no':[70001,np.nan,70002,70004,np.nan,70005,np.nan,70010,70003,70012,np.nan,70013],\n",
                "'purch_amt':[150.5,270.65,65.26,110.5,948.5,2400.6,5760,1983.43,2480.4,250.45, 75.29,3045.6],\n",
                "'ord_date': ['2012-10-05','2012-09-10',np.nan,'2012-08-17','2012-09-10','2012-07-27','2012-09-10','2012-10-10','2012-10-10','2012-06-27','2012-08-17','2012-04-25'],\n",
                "'customer_id':[3002,3001,3001,3003,3002,3001,3001,3004,3003,3002,3001,3001],\n",
                "'salesman_id':[5002,5003,5001,np.nan,5002,5001,5001,np.nan,5003,5002,5003,np.nan]})"
            ]
        },
        {
            "cell_type": "code",
            "execution_count": null,
            "metadata": {
                "id": "NRFCXILaCB5O"
            },
            "outputs": [],
            "source": [
                "#solution"
            ]
        },
        {
            "cell_type": "markdown",
            "metadata": {
                "id": "nvjdBMt3CXhk"
            },
            "source": [
                "**Exercice 2 :**\n",
                "\n",
                "- \u00c9crivez un programme Pandas pour identifier la ou les colonnes de DataFrame  qui ont au moins une valeur manquante."
            ]
        },
        {
            "cell_type": "code",
            "execution_count": null,
            "metadata": {
                "id": "fj_hvQyLCsNy"
            },
            "outputs": [],
            "source": [
                "#solution "
            ]
        },
        {
            "cell_type": "markdown",
            "metadata": {
                "id": "RWUVuT3sDTA3"
            },
            "source": [
                "**Exercice 3 :**   \n",
                "- \u00c9crivez un programme Pandas pour compter le nombre de valeurs manquantes dans chaque colonne d'un DataFrame."
            ]
        },
        {
            "cell_type": "code",
            "execution_count": null,
            "metadata": {
                "id": "W0u-gGstDnKE"
            },
            "outputs": [],
            "source": [
                "#solution"
            ]
        },
        {
            "cell_type": "markdown",
            "metadata": {
                "id": "9sIRBbNODtML"
            },
            "source": [
                "**Exercice 4 :**     \n",
                "- \u00c9crivez un programme Pandas pour rechercher et remplacer les valeurs manquantes dans un DataFrame  qui ne contiennent aucune information pr\u00e9cieuse."
            ]
        },
        {
            "cell_type": "code",
            "execution_count": null,
            "metadata": {
                "id": "nV-J8gyNED_C"
            },
            "outputs": [],
            "source": [
                "#solution"
            ]
        },
        {
            "cell_type": "markdown",
            "metadata": {
                "id": "sLU1-DpREYAm"
            },
            "source": [
                "**Exercice 5:**   \n",
                "- \u00c9crivez un programme Pandas pour supprimer les lignes o\u00f9 au moins un \u00e9l\u00e9ment manque dans un DataFrame."
            ]
        },
        {
            "cell_type": "code",
            "execution_count": null,
            "metadata": {
                "id": "nrTZgJQVEeW5"
            },
            "outputs": [],
            "source": [
                "#solution"
            ]
        },
        {
            "cell_type": "markdown",
            "metadata": {
                "id": "bhbe-NNVE7h7"
            },
            "source": [
                "**Exercice 6:**\n",
                "\n",
                "- \u00c9crivez un programme Pandas pour supprimer les colonnes o\u00f9 au moins un \u00e9l\u00e9ment manque dans un DataFrame."
            ]
        },
        {
            "cell_type": "code",
            "execution_count": null,
            "metadata": {
                "id": "MlnHPPB4EvIc"
            },
            "outputs": [],
            "source": [
                "#solution"
            ]
        },
        {
            "cell_type": "markdown",
            "metadata": {
                "id": "e05WjcWZFMNH"
            },
            "source": [
                "**Exercice 7:**\n",
                "- \u00c9crivez un programme Pandas pour supprimer les lignes o\u00f9 tous les \u00e9l\u00e9ments manquent dans un DataFrame ."
            ]
        },
        {
            "cell_type": "code",
            "execution_count": null,
            "metadata": {
                "id": "30pENZQ8FVXz"
            },
            "outputs": [],
            "source": [
                "#solution"
            ]
        },
        {
            "cell_type": "markdown",
            "metadata": {
                "id": "81ogv0mOFhKa"
            },
            "source": [
                "**Exercice 8:**\n",
                "- \u00c9crivez un programme Pandas pour conserver les lignes avec au moins 2 valeurs NaN dans un DataFrame."
            ]
        },
        {
            "cell_type": "code",
            "execution_count": null,
            "metadata": {
                "id": "JDJE5SuCFobL"
            },
            "outputs": [],
            "source": [
                "#solution"
            ]
        },
        {
            "cell_type": "markdown",
            "metadata": {
                "id": "kGFFb4PCF6La"
            },
            "source": [
                "**Exercice 9:**\n",
                "- \u00c9crivez un programme Pandas pour supprimer ces lignes d'un DataFrame dans lequel des colonnes sp\u00e9cifiques ont des valeurs manquantes."
            ]
        },
        {
            "cell_type": "code",
            "execution_count": null,
            "metadata": {
                "id": "UWr_qlw5GC_V"
            },
            "outputs": [],
            "source": [
                "#solution"
            ]
        },
        {
            "cell_type": "markdown",
            "metadata": {
                "id": "hHJZ9XLlHlkd"
            },
            "source": [
                "**Exercice 10:**\n",
                "- \u00c9crivez un programme Pandas pour conserver les entr\u00e9es valides d'un DataFrame."
            ]
        },
        {
            "cell_type": "code",
            "execution_count": null,
            "metadata": {
                "id": "dLE2BFhiIj6e"
            },
            "outputs": [],
            "source": [
                "#solution"
            ]
        },
        {
            "cell_type": "markdown",
            "metadata": {
                "id": "4eY7PZQEH4Jx"
            },
            "source": [
                "**Exercice 11 :**\n",
                "- \u00c9crivez un programme Pandas pour calculer le nombre total de valeurs manquantes dans un DataFrame."
            ]
        },
        {
            "cell_type": "code",
            "execution_count": null,
            "metadata": {
                "id": "WatIJeXeIljq"
            },
            "outputs": [],
            "source": [
                "#solution"
            ]
        },
        {
            "cell_type": "markdown",
            "metadata": {
                "id": "uKISlwI_JN87"
            },
            "source": [
                "**Exercice 12:**\n",
                "- \u00c9crivez un programme Pandas pour remplacer NaNs par une seule valeur constante dans des colonnes sp\u00e9cifi\u00e9es dans un DataFrame."
            ]
        },
        {
            "cell_type": "code",
            "execution_count": null,
            "metadata": {
                "id": "w_UAKrYvJV98"
            },
            "outputs": [],
            "source": [
                "#solution"
            ]
        },
        {
            "cell_type": "markdown",
            "metadata": {
                "id": "J1iOSzUSJan4"
            },
            "source": [
                "**Exercice 13:**\n",
                "- \u00c9crivez un programme Pandas pour remplacer NaNs par la valeur de la ligne pr\u00e9c\u00e9dente ou de la ligne suivante dans un DataFrame."
            ]
        },
        {
            "cell_type": "code",
            "execution_count": null,
            "metadata": {
                "id": "w9r3XddMJ-OK"
            },
            "outputs": [],
            "source": [
                "#solution"
            ]
        },
        {
            "cell_type": "markdown",
            "metadata": {
                "id": "8k7GnXSiKGmD"
            },
            "source": [
                "**Exercice 14:**\n",
                "- \u00c9crivez un programme Pandas pour remplacer les NaN par la m\u00e9diane ou la moyenne des colonnes sp\u00e9cifi\u00e9es dans un DataFrame."
            ]
        },
        {
            "cell_type": "code",
            "execution_count": 7,
            "metadata": {
                "id": "JHck0PKmKdAR"
            },
            "outputs": [],
            "source": [
                "pd.set_option('display.max_rows', None)\n",
                "df = pd.DataFrame({\n",
                "'ord_no':[70001,np.nan,70002,70004,np.nan,70005,np.nan,70010,70003,70012,np.nan,70013],\n",
                "'purch_amt':[150.5,np.nan,65.26,110.5,948.5,np.nan,5760,1983.43,np.nan,250.45, 75.29,3045.6],\n",
                "'sale_amt':[10.5,20.65,np.nan,11.5,98.5,np.nan,57,19.43,np.nan,25.45, 75.29,35.6],\n",
                "'ord_date': ['2012-10-05','2012-09-10',np.nan,'2012-08-17','2012-09-10','2012-07-27','2012-09-10','2012-10-10','2012-10-10','2012-06-27','2012-08-17','2012-04-25'],\n",
                "'customer_id':[3002,3001,3001,3003,3002,3001,3001,3004,3003,3002,3001,3001],\n",
                "'salesman_id':[5002,5003,5001,np.nan,5002,5001,5001,np.nan,5003,5002,5003,np.nan]})"
            ]
        },
        {
            "cell_type": "code",
            "execution_count": null,
            "metadata": {
                "id": "I7REsFsAKQ1o"
            },
            "outputs": [],
            "source": [
                "#solution"
            ]
        }
    ],
    "metadata": {
        "kernelspec": {
            "display_name": "Python 3",
            "name": "python3"
        },
        "language_info": {
            "name": "python"
        }
    },
    "nbformat": 4,
    "nbformat_minor": 0
}